{
 "cells": [
  {
   "cell_type": "code",
   "execution_count": 3,
   "id": "a172df07-4dd4-4f90-a114-66f8daffe5f8",
   "metadata": {},
   "outputs": [
    {
     "name": "stdout",
     "output_type": "stream",
     "text": [
      " * Serving Flask app '__main__'\n",
      " * Debug mode: on\n"
     ]
    },
    {
     "name": "stderr",
     "output_type": "stream",
     "text": [
      "WARNING: This is a development server. Do not use it in a production deployment. Use a production WSGI server instead.\n",
      " * Running on http://127.0.0.1:8000\n",
      "Press CTRL+C to quit\n",
      " * Restarting with watchdog (inotify)\n",
      "Traceback (most recent call last):\n",
      "  File \"/home/erick/anaconda3/lib/python3.11/site-packages/ipykernel_launcher.py\", line 15, in <module>\n",
      "    from ipykernel import kernelapp as app\n",
      "  File \"/home/erick/anaconda3/lib/python3.11/site-packages/ipykernel/__init__.py\", line 7, in <module>\n",
      "    from .connect import *\n",
      "  File \"/home/erick/anaconda3/lib/python3.11/site-packages/ipykernel/connect.py\", line 12, in <module>\n",
      "    import jupyter_client\n",
      "  File \"/home/erick/anaconda3/lib/python3.11/site-packages/jupyter_client/__init__.py\", line 3, in <module>\n",
      "    from .asynchronous import AsyncKernelClient\n",
      "  File \"/home/erick/anaconda3/lib/python3.11/site-packages/jupyter_client/asynchronous/__init__.py\", line 1, in <module>\n",
      "    from .client import AsyncKernelClient  # noqa\n",
      "    ^^^^^^^^^^^^^^^^^^^^^^^^^^^^^^^^^^^^^\n",
      "  File \"/home/erick/anaconda3/lib/python3.11/site-packages/jupyter_client/asynchronous/client.py\", line 11, in <module>\n",
      "    from ..channels import AsyncZMQSocketChannel, HBChannel\n",
      "  File \"/home/erick/anaconda3/lib/python3.11/site-packages/jupyter_client/channels.py\", line 12, in <module>\n",
      "    from jupyter_core.utils import ensure_async\n",
      "  File \"/home/erick/anaconda3/lib/python3.11/site-packages/jupyter_core/utils/__init__.py\", line 13, in <module>\n",
      "    from pathlib import Path\n",
      "  File \"/home/erick/anaconda3/lib/python3.11/site-packages/pathlib.py\", line 10, in <module>\n",
      "    from collections import Sequence\n",
      "ImportError: cannot import name 'Sequence' from 'collections' (/home/erick/anaconda3/lib/python3.11/collections/__init__.py)\n"
     ]
    },
    {
     "ename": "SystemExit",
     "evalue": "1",
     "output_type": "error",
     "traceback": [
      "An exception has occurred, use %tb to see the full traceback.\n",
      "\u001b[0;31mSystemExit\u001b[0m\u001b[0;31m:\u001b[0m 1\n"
     ]
    }
   ],
   "source": [
    "from flask import Flask\n",
    "from flask_restful import Api, Resource, reqparse\n",
    "from my_resource import ApplicationResource, ParticipantResource\n",
    "from my_model import db\n",
    "from flask_cors import CORS\n",
    "\n",
    "app = Flask(__name__)\n",
    "api = Api(app)\n",
    "\n",
    "CORS(app)\n",
    "\n",
    "app.config['SQLALCHEMY_DATABASE_URI'] = 'sqlite:///application.db'\n",
    "db.init_app(app)\n",
    "\n",
    "with app.app_context():\n",
    "    db.create_all()\n",
    "#db.create_all()\n",
    "\n",
    "class HelloWorld(Resource):\n",
    "    def get(self):\n",
    "        return {'hello': 'world'}\n",
    "\n",
    "api.add_resource(HelloWorld, '/')\n",
    "api.add_resource(ApplicationResource, '/applications', '/applications/<int:application_id>')\n",
    "api.add_resource(ParticipantResource, '/keys', '/keys/<string:user_name>/')\n",
    "\n",
    "\n",
    "\n",
    "if __name__ == '__main__':\n",
    "    app.run(debug=True, port=8000)"
   ]
  },
  {
   "cell_type": "code",
   "execution_count": 5,
   "id": "cd0fc252-adfb-418f-a97a-f853dd065547",
   "metadata": {},
   "outputs": [],
   "source": [
    "import numpy as np\n",
    "import matplotlib.pyplot as plt"
   ]
  },
  {
   "cell_type": "code",
   "execution_count": 16,
   "id": "cc59639f-b2ce-4ad6-8195-3741f664ea49",
   "metadata": {},
   "outputs": [
    {
     "data": {
      "image/png": "[encoded data removed]",
      "text/plain": [
       "<Figure size 640x480 with 1 Axes>"
      ]
     },
     "metadata": {},
     "output_type": "display_data"
    }
   ],
   "source": [
    "\n"
   ]
  },
  {
   "cell_type": "code",
   "execution_count": null,
   "id": "7dba24fc-55d0-417d-a31f-6128864a851c",
   "metadata": {},
   "outputs": [],
   "source": []
  }
 ],
 "metadata": {
  "kernelspec": {
   "display_name": "Python 3 (ipykernel)",
   "language": "python",
   "name": "python3"
  },
  "language_info": {
   "codemirror_mode": {
    "name": "ipython",
    "version": 3
   },
   "file_extension": ".py",
   "mimetype": "text/x-python",
   "name": "python",
   "nbconvert_exporter": "python",
   "pygments_lexer": "ipython3",
   "version": "3.11.7"
  }
 },
 "nbformat": 4,
 "nbformat_minor": 5
}
